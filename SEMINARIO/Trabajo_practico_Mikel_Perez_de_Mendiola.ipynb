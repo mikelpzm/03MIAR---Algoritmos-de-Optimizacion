{
  "cells": [
    {
      "cell_type": "markdown",
      "metadata": {
        "id": "view-in-github",
        "colab_type": "text"
      },
      "source": [
        "<a href=\"https://colab.research.google.com/github/mikelpzm/03MIAR---Algoritmos-de-Optimizacion/blob/main/SEMINARIO/Trabajo_practico_Mikel_Perez_de_Mendiola.ipynb\" target=\"_parent\"><img src=\"https://colab.research.google.com/assets/colab-badge.svg\" alt=\"Open In Colab\"/></a>"
      ]
    },
    {
      "cell_type": "markdown",
      "metadata": {
        "id": "hVbXYX-RfPWh"
      },
      "source": [
        "# Algoritmos de optimización - Trabajo práctico<br>\n",
        "Nombre y Apellidos: Mikel Pérez de Mendiola Rubio<br>\n",
        "Url: https://github.com/mikelpzm/03MIAR---Algoritmos-de-Optimizacion<br>\n",
        "\n",
        "Url Colab: https://drive.google.com/file/d/1zbIbzze5_gVUT8-FahlifQrntN9UPS-r/view?usp=sharing<br>\n",
        "\n",
        "Problema:\n",
        "\n",
        ">3. Combinar cifras y operaciones\n",
        "\n",
        "Descripción del problema:  \n",
        "El problema consiste en analizar el siguiente problema y diseñar un algoritmo que lo resuelva.\n",
        "- Disponemos de las 9 cifras del 1 al 9 (excluimos el cero) y de los 4 signos básicos de las operaciones fundamentales: suma(+), resta(-), multiplicación(*) y división(/)\n",
        "- Debemos combinarlos alternativamente sin repetir ninguno de ellos para obtener una cantidad\n",
        "dada.  \n",
        "Un ejemplo sería para obtener el 4:  \n",
        "4+2-6/3*1 = 4\n",
        "\n",
        "Debe analizarse el problema para encontrar todos los valores enteros posibles planteando las siguientes cuestiones:\n",
        "- ¿Qué valor máximo y mínimo se pueden obtener según las condiciones del problema?\n",
        "- ¿Es posible encontrar todos los valores enteros posibles entre dicho mínimo y máximo ?\n",
        "\n",
        "....\n",
        "\n",
        "(*) La respuesta es obligatoria                                        "
      ]
    },
    {
      "cell_type": "markdown",
      "metadata": {
        "id": "3_-exlrTgLd-"
      },
      "source": [
        "### (*)¿Cuántas posibilidades hay sin tener en cuenta las restricciones?<br>\n",
        "\n",
        "Respuesta\n",
        "\n",
        "Si calculamos de cuántas formas podemos combinar 9 cifras sin repetición tomadas de 5 en 5 con las 4 operaciones básicas, tenemos:\n",
        "\n",
        "$$\\frac{9!}{(9-5)!} \\cdot 4! = 362880$$\n",
        "\n",
        "Si pudieran repetirse las cifras y los operadores, tendríamos variaciones con repetición de 9 cifras tomadas de 5 en 5 con las combinaciones con repetición de 4 operadores:\n",
        "$$ 9^5 \\cdot 4^4 = 15116544 $$ "
      ]
    },
    {
      "cell_type": "markdown",
      "metadata": {
        "id": "dzynfVJahHoY"
      },
      "source": [
        "### Modelo para el espacio de soluciones<br>\n",
        "#### (*) ¿Cual es la estructura de datos que mejor se adapta al problema? Argumentalo. (Es posible que hayas elegido una al principio y veas la necesidad de cambiar, arguentalo)\n"
      ]
    },
    {
      "cell_type": "markdown",
      "metadata": {
        "id": "xFIJrOwKi2Ti"
      },
      "source": [
        "Respuesta\n",
        "\n",
        "Se ha optado por usar listas para representar los números y las operaciones. Esto permite ir combinando los elementos para obtener todas las combinaciones posibles.  \n",
        "Al combinar los elementos, se van generando soluciones que, en caso de ser válidas, se añaden a la lista de soluciones en forma de string. De esta forma, mediante la función eval() se puede obtener el resultado de la expresión directamente.\n",
        "\n",
        "Para resolver usando ramificación y poda, se genera una estructura de árbol que permite ir podando las ramas que no sean prometedoras.\n",
        "\n"
      ]
    },
    {
      "cell_type": "markdown",
      "metadata": {
        "id": "7Z9U2W7bi-XS"
      },
      "source": [
        "### Según el modelo para el espacio de soluciones<br>\n",
        "#### (*)¿Cual es la función objetivo?\n",
        "\n",
        "Se trata de un problema de búsqueda, por lo que la función objetivo es encontrar la solución la expresión que de como resultado el número deseado.  \n",
        "A diferencia de otros tipos de problemas, no se trata aquí de ir maximizando o minimizando una función, sino de encontrar la expresión que de como resultado el número objetivo.\n",
        "\n",
        "#### (*)¿Es un problema de maximización o minimización?  \n",
        "\n",
        "Como se ha comentado, se trata de un problema de búsqueda. En lugar de maximizar o minimizar, el objetivo es encontrar la expresión que al evaluarla de como resultado el número objetivo."
      ]
    },
    {
      "cell_type": "markdown",
      "metadata": {
        "id": "rlnTYgY1j6I2"
      },
      "source": [
        "### Diseña un algoritmo para resolver el problema por fuerza bruta"
      ]
    },
    {
      "cell_type": "markdown",
      "metadata": {
        "id": "70rDgxYXkC8r"
      },
      "source": [
        "Respuesta"
      ]
    },
    {
      "cell_type": "code",
      "execution_count": null,
      "metadata": {
        "id": "CJb5sQ0qkENy",
        "outputId": "5be11b39-2df1-46d0-b9a6-e48e4a27bda6",
        "colab": {
          "base_uri": "https://localhost:8080/"
        }
      },
      "outputs": [
        {
          "output_type": "stream",
          "name": "stdout",
          "text": [
            "expresion= 7/1-2+8*9 resultado= 77.0\n"
          ]
        }
      ],
      "source": [
        "import itertools\n",
        "\n",
        "\n",
        "def obtener_expresion_para_valor(objetivo):\n",
        "\n",
        "  # conjunto de cifras y operadores\n",
        "  cifras = [1, 2, 3, 4, 5, 6, 7, 8, 9]\n",
        "  operadores = ['+', '-', '*', '/']\n",
        "\n",
        "  expresion = ''\n",
        "\n",
        "  # Generar todas las posibles combinaciones de cifras y operadores\n",
        "  for c in itertools.permutations(cifras, 5):\n",
        "      for o in itertools.permutations(operadores, 4):\n",
        "          # Convertir la combinación a una expresión matemática\n",
        "          expresion = str(c[0]) + o[0] + str(c[1]) + o[1] + str(c[2]) + o[2] + str(c[3]) + o[3] + str(c[4])\n",
        "          # Evaluar la expresión\n",
        "          try:\n",
        "              resultado = eval(expresion)\n",
        "              # Verificar si el resultado es un valor entero\n",
        "              if resultado == int(resultado):\n",
        "                  if resultado == objetivo:\n",
        "                    return expresion, resultado\n",
        "\n",
        "          except ZeroDivisionError:\n",
        "              continue\n",
        "\n",
        "\n",
        "expresion, resultado = obtener_expresion_para_valor(77)\n",
        "print('expresion=', expresion, 'resultado=', resultado)\n"
      ]
    },
    {
      "cell_type": "markdown",
      "metadata": {
        "id": "tgrnsC2nkFa8"
      },
      "source": [
        "### Calcula la complejidad del algoritmo por fuerza bruta"
      ]
    },
    {
      "cell_type": "markdown",
      "metadata": {
        "id": "9eUd3xwckP68"
      },
      "source": [
        "Respuesta\n",
        "\n",
        "El algoritmo por fuerza bruta tiene una complejidad de es factorial ya que se generan todas las combinaciones posibles de los elementos de la lista de números y operaciones. Siendo $n$ el número de elementos de la lista de cifras, el número de combinaciones posibles es $n!$, y siendo $m$ el número de elementos de la lista de operaciones, el número de combinaciones posibles es $m!$. Entonces tendrá un orden de complejidad $O(n! \\cdot m!)$."
      ]
    },
    {
      "cell_type": "markdown",
      "metadata": {
        "id": "K_djuPQhxVli"
      },
      "source": [
        "### ¿Qué valor máximo y mínimo se pueden obtener según las condiciones del problema?\n",
        "\n",
        "El máximo valor que se puede obtener es 77 y el mínimo es -69. \n",
        "Se presenta a continuación un método que devuelve la lista con todas las posibles soluciones y la solución máxima y mínima que se puede obtener.\n",
        "Este método genera las combinaciones y hace uso de poda para reducir el número de estas que se exploran, para descartar aquellas que no son prometedoras o válidas. \n",
        "\n",
        "Comprobamos si la expresión contiene una multiplicación. Si es así, comprobamos si es la más alta posible (72).  \n",
        "Si es así, no seguimos explorando. Esto es válido para encontrar el máximo y el mínimo valor posible, ya que tendremos que tener 8\\*9 al maximizar, y algún dígito menos 8*9 al minimizar.  \n",
        "Se evalua la expresión entera construida hasta el momento, para evitar problemas con la precedencia de las operaciones para no descartar expresiones como $8/1*9$ que pueden llevar a resultados máximos o mínimos.  \n",
        "También descartamos las combinaciones que no lleven a soluciones enteras.\n"
      ]
    },
    {
      "cell_type": "code",
      "execution_count": null,
      "metadata": {
        "id": "rvZWwL-ckRST",
        "colab": {
          "base_uri": "https://localhost:8080/"
        },
        "outputId": "0078f693-94ad-4d77-8300-fed6a434e9e3"
      },
      "outputs": [
        {
          "output_type": "stream",
          "name": "stdout",
          "text": [
            "Máximo valor: 77.0 Expresión: 7-2/1+8*9\n",
            "Mínimo valor: -69.0 Expresión: 1+4/2-8*9\n",
            "Soluciones faltantes: []\n"
          ]
        }
      ],
      "source": [
        "OPERATIONS = ['*','+','-','/']\n",
        "NUMBERS = [1,2,3,4,5,6,7,8,9]\n",
        "\n",
        "counter = 0\n",
        "\n",
        "# lista que contiene todas las soluciones, cada solución se representa como una tupla (expresión, valor)\n",
        "solutions = []\n",
        "\n",
        "def obtener_todas_soluciones():\n",
        "    max_value = float(\"-inf\")\n",
        "    max_expresion = \"\"\n",
        "\n",
        "    # el valor mínimo inicial es -infinito\n",
        "    min_value = float(\"inf\")\n",
        "    min_expresion = \"\"\n",
        "    no_explorados = []\n",
        "\n",
        "    def crear_operacion(numbers, operations):\n",
        "        operation = str(numbers[0])\n",
        "        for i in range(1,len(numbers)):\n",
        "            operation += operations[i-1] + str(numbers[i])\n",
        "        return operation\n",
        "\n",
        "    def resolver(numbers, operations):\n",
        "        \n",
        "        nonlocal max_value, max_expresion\n",
        "        nonlocal min_value, min_expresion\n",
        "        nonlocal no_explorados\n",
        "                \n",
        "        def resolver_anadir_cifras(numbers, operations):\n",
        "            for n in set(NUMBERS)-set(numbers):\n",
        "                numbers.append(n)\n",
        "                if resolver(numbers, operations):\n",
        "                    return True\n",
        "                numbers.pop()\n",
        "            return False\n",
        "\n",
        "\n",
        "        if len(operations) == 4:\n",
        "            expresion = str(numbers[0]) + operations[0] + str(numbers[1]) + operations[1] + str(numbers[2]) + operations[2] + str(numbers[3]) + operations[3] + str(numbers[4])\n",
        "            result = eval(expresion)\n",
        "            if result == int(result):\n",
        "                if result > max_value:\n",
        "                    max_value = result\n",
        "                    max_expresion = expresion\n",
        "                if result  < min_value:\n",
        "                    min_value = result\n",
        "                    min_expresion = expresion  \n",
        "\n",
        "                solutions.append((expresion, result))\n",
        "        elif not numbers:\n",
        "            return resolver_anadir_cifras(numbers, operations)\n",
        "        else:\n",
        "            # print('Numbers, operations', numbers, operations)\n",
        "\n",
        "            # comprobamos si la expresión contiene una multiplicación. Si es así, comprobamos si es la más alta posible (72).\n",
        "            # Si es así, no seguimos explorando. Esto es válido para encontrar el máximo y el mínimo valor posible, ya que tendremos que \n",
        "            # tener 8*9 al maximizar, y algún dígito menos 8*9 al minimizar.\n",
        "            # Se evalua la expresión entera construida hasta el momento, para evitar problemas con la precedencia de las operaciones\n",
        "            # para no descartar expresiones como 8/1*9 que pueden llevar a resultados máximos o mínimos.\n",
        "\n",
        "            if '*' in operations:\n",
        "                valor_multiplicacion = eval(crear_operacion(numbers, operations))\n",
        "                if valor_multiplicacion < 72:\n",
        "                    #print('No se explora por multiplicación', numbers, operations, valor_multiplicacion)\n",
        "                    return False\n",
        "\n",
        "            #comprobamos si las operaciones contienen división y multiplicación\n",
        "            if '/' in operations and '*' in operations:\n",
        "                resultado_division = eval(crear_operacion(numbers, operations))\n",
        "                # si la expresión contiene una división y el resultado no es un número entero, no seguimos explorando\n",
        "                if resultado_division != int(resultado_division):\n",
        "                    #print('No se explora por división', numbers, operations, resultado_division)\n",
        "                    return False\n",
        "        \n",
        "            for o in set(OPERATIONS)-set(operations):\n",
        "                operations.append(o)\n",
        "                if resolver_anadir_cifras(numbers, operations):\n",
        "                    return True\n",
        "                operations.pop()\n",
        "        return False\n",
        "\n",
        "    numbers = []\n",
        "    operations = []\n",
        "\n",
        "    resolver(numbers, operations)\n",
        "\n",
        "    return max_expresion, max_value, min_expresion, min_value, solutions\n",
        "    \n",
        "max_expresion, max_value, min_expresion, min_value, solutions = obtener_todas_soluciones()\n",
        "print('Máximo valor:', max_value, 'Expresión:', max_expresion)  \n",
        "print('Mínimo valor:', min_value, 'Expresión:', min_expresion)  \n",
        "\n",
        "\n",
        "#recorrer todas las soluciones y comprobar que existen todos los valores desde -69 hasta 77\n",
        "soluciones_faltantes = []\n",
        "for i in range(-69, 78):\n",
        "    if i not in [s[1] for s in solutions]:\n",
        "        soluciones_faltantes.append(i)\n",
        "\n",
        "print('Soluciones faltantes:', soluciones_faltantes)"
      ]
    },
    {
      "cell_type": "markdown",
      "metadata": {
        "id": "aLkBoCjSxVlj"
      },
      "source": [
        "### ¿Es posible encontrar todos los valores enteros posibles entre dicho mínimo y máximo?\n",
        "\n",
        "Sí, hemos comprobado en la ejecución anterior que se encuentran todos los valores entre -69 y 77 en las soluciones encontradas."
      ]
    },
    {
      "cell_type": "markdown",
      "metadata": {
        "id": "txbrmLmskReM"
      },
      "source": [
        "### (*)Diseña un algoritmo que mejore la complejidad del algortimo por fuerza bruta. Argumenta por qué crees que mejora el algoritmo por fuerza bruta"
      ]
    },
    {
      "cell_type": "markdown",
      "metadata": {
        "id": "hLrVwt5QkZPD"
      },
      "source": [
        "Respuesta\n",
        "\n",
        "Además del algoritmo anterior que generaba todos los resultados enteros posibles, se presenta a continuación una alternativa al algoritmo de fuerza bruta que obtiene la expresión que da como resultado el número dado. \n",
        "\n",
        "En este enfoque, usando técnica de divide y vencerás, se pretende no tener que explorar todas las combinaciones posibles sino centrarse en las ramas prometedoras que puedan llevarnos al resultado deseado."
      ]
    },
    {
      "cell_type": "code",
      "execution_count": null,
      "metadata": {
        "colab": {
          "base_uri": "https://localhost:8080/"
        },
        "id": "m1eyM21Vkabg",
        "outputId": "35204b5e-081c-44e8-dfd7-f9fc7b1e99bb"
      },
      "outputs": [
        {
          "output_type": "stream",
          "name": "stdout",
          "text": [
            "Expresión:  7+8/1*9-2 Resultado:  77.0\n"
          ]
        }
      ],
      "source": [
        "from random import sample\n",
        "\n",
        "random.seed(42)\n",
        "cifras = [\"1\",\"2\",\"3\",\"4\",\"5\",\"6\",\"7\",\"8\",\"9\"]\n",
        "operaciones = [\"+\",\"-\",\"*\",\"/\"]\n",
        "\n",
        "def generar_nodo(padre = None, cifras = cifras, operaciones = operaciones):\n",
        "    \"\"\"\n",
        "    Dado un nodo añade una operacion y una cifra de las que quedan.\n",
        "    \"\"\"\n",
        "    if padre is None:\n",
        "        return sample(operaciones,1)[0].join(sample(cifras,2))\n",
        "    else:\n",
        "        op_left = list(set(operaciones) - set(padre) - set(cifras))\n",
        "        cif_left = list(set(cifras) - set(padre) - set(operaciones))\n",
        "        if len(op_left) >= 1:\n",
        "            return padre + sample(op_left,1)[0] + (sample(cif_left,1))[0]\n",
        "        else:\n",
        "            return padre\n",
        "        \n",
        "def calcular_cotas(nodo, cifras = cifras, operaciones = operaciones):\n",
        "    \"\"\"\n",
        "    Calculamos cotas aproximadas.\n",
        "    \"\"\"\n",
        "    if eval(nodo) > 0:\n",
        "        op_max = [\"*\",\"+\"]\n",
        "        op_min = [\"/\",\"-\"]\n",
        "    else:\n",
        "        op_max = [\"/\",\"+\"]\n",
        "        op_min = [\"*\",\"-\"]\n",
        "        \n",
        "    op_left_max = list(set(op_max) - set(nodo))\n",
        "    op_left_min = list(set(op_min) - set(nodo))\n",
        "    cif_left = list(set(cifras)-set(nodo))\n",
        "    if len(op_left_max) > 0:\n",
        "        cota_max = eval(nodo + op_left_max[0] + max(cif_left))\n",
        "    else:\n",
        "        cota_max = eval(nodo)\n",
        "        \n",
        "    if len(op_left_min) > 0:\n",
        "        cota_min = eval(nodo + op_left_min[0] + max(cif_left))\n",
        "    else:\n",
        "        cota_min = eval(nodo)\n",
        "        \n",
        "    return cota_max, cota_min\n",
        "        \n",
        "\n",
        "def evaluar(nodo, lista, objetivo):\n",
        "    \"\"\"\n",
        "    Decidimos si continuar con ese nodo o no. Si es no se añade a la lista de ya explorados.\n",
        "    Esto se realiza comprobando las cotas máxima y mínima estimadas que puede alcanzar si explorase la rama con los operadores que \n",
        "    faltan por usarse y las cifras restantes.\n",
        "    También se deja de explorar en caso de que se hayan usado los operadores multiplicación y división y se tenga un resultado no\n",
        "    entero. En estos casos, no se va a poder llegar nunca a una solución entera, por lo que no se sigue por ahí.\n",
        "    \"\"\"\n",
        "\n",
        "    cota_max, cota_min = calcular_cotas(nodo)\n",
        "    \n",
        "    if '/' in nodo and '*' in nodo:\n",
        "        resultado_division = eval(nodo)\n",
        "        # si la expresión contiene una división y el resultado no es un número entero, no seguimos explorando\n",
        "        if resultado_division != int(resultado_division):\n",
        "          lista.append(nodo)\n",
        "          #print('No se explora por división', nodo)\n",
        "          return False, lista    \n",
        "\n",
        "\n",
        "    if cota_max > objetivo and cota_min < objetivo:\n",
        "        #print(\"Continuar, cotas: \", cota_max, cota_min)\n",
        "        return True, lista\n",
        "    else:\n",
        "        #print(\"Atras, cotas: \", cota_max, cota_min)\n",
        "        lista.append(nodo)\n",
        "        return False, lista\n",
        "\n",
        "\n",
        "def ramif_y_poda(objetivo, nodo=None, lista = [], cifras = cifras, operaciones = operaciones, contador_repeticiones = 0):\n",
        "    \"\"\"\n",
        "    Funcion principal recursiva\n",
        "    \"\"\"\n",
        "    if contador_repeticiones > 7: #Si no encontramos la solucion por ese camino, volvemos a empezar\n",
        "        return ramif_y_poda(objetivo = objetivo, nodo=None, lista = lista, cifras = cifras, operaciones = operaciones, contador_repeticiones = 0)\n",
        "        \n",
        "    # 1. Generar nodo a partir del que llega.\n",
        "    nuevo_nodo = generar_nodo(nodo)\n",
        "    #print(\"Nuevo nodo: \", nuevo_nodo)\n",
        "    \n",
        "    if nuevo_nodo in lista: # Si está en la lista no lo exploramos\n",
        "        contador_repeticiones += 1\n",
        "        return ramif_y_poda(objetivo = objetivo, nodo = nodo, lista = lista, cifras = cifras, operaciones = operaciones, contador_repeticiones = contador_repeticiones)\n",
        "        \n",
        "    if len(nuevo_nodo) == 9: # Si ya tenemos los 9 elementos evaluamos si es la solucion\n",
        "        if eval(nuevo_nodo) == objetivo:\n",
        "            return nuevo_nodo\n",
        "        else: # Si no es se añade a la lista y se vuelve atrás\n",
        "            lista.append(nuevo_nodo) \n",
        "            return ramif_y_poda(objetivo = objetivo, nodo = nodo, lista = lista, cifras = cifras, operaciones = operaciones, contador_repeticiones = contador_repeticiones)\n",
        "    \n",
        "    # Si el nodo no tiene todos los elementos se evaluan sus cotas y se decide si continuar o volver atrás\n",
        "    continuar, lista = evaluar(nuevo_nodo, lista, objetivo)\n",
        "    if continuar:\n",
        "        return ramif_y_poda(objetivo = objetivo, nodo = nuevo_nodo, lista = lista, cifras = cifras, operaciones = operaciones, contador_repeticiones = contador_repeticiones)\n",
        "    else:\n",
        "        return ramif_y_poda(objetivo = objetivo, nodo = nodo, lista = lista, cifras = cifras, operaciones = operaciones, contador_repeticiones = contador_repeticiones)\n",
        "     \t \n",
        "resultado = ramif_y_poda(77, nodo=None, lista = [], cifras = cifras, operaciones = operaciones, contador_repeticiones = 0)\n",
        "\n",
        "print(\"Expresión: \", resultado, \"Resultado: \", eval(resultado))\n",
        "\n"
      ]
    },
    {
      "cell_type": "markdown",
      "metadata": {
        "id": "eGDB4K6uk1iN"
      },
      "source": [
        "### (*)Calcula la complejidad del algoritmo "
      ]
    },
    {
      "cell_type": "markdown",
      "metadata": {
        "id": "NhpTh_BPk1ms"
      },
      "source": [
        "Respuesta\n",
        "\n",
        "En este caso, la complejidad del algoritmo es menor que la del algoritmo usando fuerza bruta, ya que no se tienen que explorar todas las combinaciones gracias a la poda. En este tipo de algoritmos es complicado calcular la complejidad, ya que no es fácil saber cuántas combinaciones van a ser descartadas. Podríamos quedarnos con que en el peor caso, en el que no consiga podar ninguna candidata y tengamos complejidad de orden factorial. En la práctica estaríamos aún así mejorando la complejidad de la fuerza bruta, por descartarse combinaciones no prometedoras que en el caso de la fuerza bruta nos veríamos obligados a comprobar.\n"
      ]
    },
    {
      "cell_type": "markdown",
      "metadata": {
        "id": "3M6QjTsSkmYe"
      },
      "source": [
        "### Según el problema (y tenga sentido), diseña un juego de datos de entrada aleatorios"
      ]
    },
    {
      "cell_type": "markdown",
      "metadata": {
        "id": "Jc3_OlyNkvjZ"
      },
      "source": [
        "Respuesta\n",
        "\n",
        "En este caso no tiene sentido plantear un juego de datos de entrada aleatorios, ya que el problema consiste en generar todas las combinaciones de números y operadores."
      ]
    },
    {
      "cell_type": "markdown",
      "metadata": {
        "id": "eTFWUJQrtGcv"
      },
      "source": [
        "### Enumera las referencias que has utilizado(si ha sido necesario) para llevar a cabo el trabajo"
      ]
    },
    {
      "cell_type": "markdown",
      "metadata": {
        "id": "YKQ_mRBttWsP"
      },
      "source": [
        "Respuesta\n",
        "\n",
        "Se ha revisado los apuntes de clase y bibliografía, así como la documentación de la librería itertools, usada para obtener las combinaciones de los elementos de la lista de números y operaciones."
      ]
    },
    {
      "cell_type": "markdown",
      "metadata": {
        "id": "kAkDPUyRtYyH"
      },
      "source": [
        "### Describe brevemente las lineas de como crees que es posible avanzar en el estudio del problema. Ten en cuenta incluso posibles variaciones del problema y/o variaciones al alza del tamaño"
      ]
    },
    {
      "cell_type": "markdown",
      "metadata": {
        "id": "IE0uZmo-tZu-"
      },
      "source": [
        "Respuesta\n",
        "\n",
        "Se podría mejorar el método de poda usado para descartar las combinaciones que no llevan al resultado deseado. \n",
        "\n",
        "Si el problema creciese en tamaño, aumentando el número de cifras y operaciones que se deberían explorar, tener un mecanismo de poda eficiente sería necesario para poder resolver el problema.\n",
        "\n",
        "Como alternativa, se podrían usar otros tipos de algoritmos para intentar obtener soluciones aceptables, como el ejemplo presentado a continuación para intentar encontrar el valor máximo que se puede obtener con las combinaciones de cifras y operadores.  \n",
        "\n",
        "En este caso se realiza un enfoque probabilístico, generando aleatoriamente combinaciones de números y operadores y comprobando si se obtienen soluciones válidas. En cada iteración se va guardando la mejor solución encontrada hasta el momento, y se genera una nueva combinación, modificando cifras y operadores basándose en una probabilidad."
      ]
    },
    {
      "cell_type": "code",
      "execution_count": null,
      "metadata": {
        "colab": {
          "base_uri": "https://localhost:8080/"
        },
        "id": "10aqJiuTxVlk",
        "outputId": "0966547a-c21f-4071-b0a5-b5ac5dc25c3e"
      },
      "outputs": [
        {
          "output_type": "stream",
          "name": "stdout",
          "text": [
            "4*3/6-5+8 = 5.0\n",
            "4*3/1-5+8 = 15.0\n",
            "4*8/1-5+3 = 30.0\n",
            "4*9/1-5+3 = 34.0\n",
            "8*9/1-5+3 = 70.0\n",
            "8*9/1-3+5 = 74.0\n",
            "8*9/1-2+5 = 75.0\n",
            "8*9/1-2+7 = 77.0\n"
          ]
        }
      ],
      "source": [
        "import itertools\n",
        "import random\n",
        "\n",
        "\n",
        "# Conjunto de cifras y operadores\n",
        "cifras = [1, 2, 3, 4, 5, 6, 7, 8, 9]\n",
        "operadores = ['+', '-', '*', '/']\n",
        "\n",
        "mejor_solucion = -99999\n",
        "mejor_expresion = ''\n",
        "\n",
        "\n",
        "def generar_vecino(c,o):\n",
        "\n",
        "    c_vecino = c.copy()\n",
        "    o_vecino = o.copy()\n",
        "\n",
        "    #con una probabilidad p se hace un swap de c de la posición i con la posición j. i y j son números aleatorios y distintos\n",
        "    #con probabilidad 1-p se obtiene otra cifra de las disponibles y se cambia la posición i por esa cifra\n",
        "    p = 0.8\n",
        "    if random.random() < p:\n",
        "        i = random.randint(0,4)\n",
        "        j = random.randint(0,4)\n",
        "        while i == j:\n",
        "           j = random.randint(0,4)\n",
        "        c_vecino[i], c_vecino[j] = c_vecino[j], c_vecino[i]\n",
        "    else:\n",
        "        i = random.randint(0,4)\n",
        "        c_vecino[i] = random.choice([x for x in cifras if x not in c_vecino])\n",
        "\n",
        "   \n",
        "    #se hace un swap de o de la posición i con la posición j. i y j son números aleatorios y distintos\n",
        "    #con probabilidad p se realiza el swap de operadores\n",
        "\n",
        "    p = 0.2\n",
        "    if random.random() < p:\n",
        "        i = random.randint(0,3)\n",
        "        j = random.randint(0,3)\n",
        "        while i == j:\n",
        "            j = random.randint(0,3)\n",
        "        o_vecino[i], o_vecino[j] = o_vecino[j], o_vecino[i]\n",
        "\n",
        "    return c_vecino, o_vecino\n",
        "\n",
        "\n",
        "# Conjunto vacío para almacenar los valores enteros posibles\n",
        "valores_posibles = set()\n",
        "\n",
        "# Inicializar una lista tabú vacía\n",
        "lista_tabu = []\n",
        "\n",
        "# Generar una solución inicial al azar\n",
        "c = random.sample(cifras, 5)\n",
        "o = random.sample(operadores, 4)\n",
        "expresion = str(c[0]) + o[0] + str(c[1]) + o[1] + str(c[2]) + o[2] + str(c[3]) + o[3] + str(c[4])\n",
        "\n",
        "# Evaluar la solución inicial y verificar si es un valor entero\n",
        "try:\n",
        "    resultado = eval(expresion)\n",
        "    if resultado == int(resultado):\n",
        "        valores_posibles.add(int(resultado))\n",
        "        lista_tabu.append(expresion)\n",
        "        if(int(resultado) > mejor_solucion):\n",
        "            mejor_solucion = int(resultado)\n",
        "            mejor_expresion = expresion\n",
        "            print(expresion, '=', resultado)\n",
        "except ZeroDivisionError:\n",
        "    pass\n",
        "\n",
        "#condición de parada: cuando se encuentren 1000 valores enteros o cuando se hayan evaluado 1000 soluciones vecinas \n",
        "# sin encontrar nuevos valores enteros (en este caso, se puede detener el algoritmo) \n",
        "\n",
        "#numero de iteraciones\n",
        "iteracionesSinMejora = 0\n",
        "totalIteraciones = 0\n",
        "\n",
        "while len(valores_posibles) < 1000 and iteracionesSinMejora < 1000:\n",
        "    iteracionesSinMejora += 1\n",
        "    totalIteraciones += 1\n",
        "    # Generar una solución vecina (cambiando un operador o un número en la solución actual)\n",
        "\n",
        "    c_vecino, o_vecino = generar_vecino(c,o)\n",
        "\n",
        "    expresion_vecina = str(c_vecino[0]) + o_vecino[0] + str(c_vecino[1]) + o_vecino[1] + str(c_vecino[2]) + o_vecino[2] + str(c_vecino[3]) + o_vecino[3] + str(c_vecino[4])\n",
        "\n",
        "    # Verificar si la solución vecina está en la lista tabú\n",
        "    if expresion_vecina not in lista_tabu:\n",
        "        # Evaluar la solución vecina\n",
        "        try:\n",
        "            resultado_vecino = eval(expresion_vecina)\n",
        "\n",
        "            # print(expresion_vecina, resultado_vecino)\n",
        "            # print(len(valores_posibles))\n",
        "\n",
        "            if resultado_vecino == int(resultado_vecino):\n",
        "                valores_posibles.add(int(resultado_vecino))\n",
        "                \n",
        "                if(int(resultado_vecino) > mejor_solucion):\n",
        "                    mejor_solucion = int(resultado_vecino)\n",
        "                    mejor_expresion = expresion_vecina\n",
        "                    iteracionesSinMejora = 0\n",
        "                    \n",
        "                    # Actualizar la solución actual\n",
        "                    c = c_vecino\n",
        "                    o = o_vecino\n",
        "                    expresion = expresion_vecina\n",
        "\n",
        "                    print(expresion_vecina, '=', resultado_vecino)\n",
        "        except ZeroDivisionError:\n",
        "            pass\n",
        "\n",
        "        # Añadir la solución vecina a la\n",
        "        lista_tabu.append(expresion_vecina)\n",
        "        # Actualizar la lista tabú\n",
        "        if len(lista_tabu) > 50:\n",
        "            lista_tabu.pop(0)"
      ]
    }
  ],
  "metadata": {
    "colab": {
      "provenance": [],
      "include_colab_link": true
    },
    "kernelspec": {
      "display_name": "Python 3",
      "language": "python",
      "name": "python3"
    },
    "language_info": {
      "codemirror_mode": {
        "name": "ipython",
        "version": 3
      },
      "file_extension": ".py",
      "mimetype": "text/x-python",
      "name": "python",
      "nbconvert_exporter": "python",
      "pygments_lexer": "ipython3",
      "version": "3.8.3"
    },
    "vscode": {
      "interpreter": {
        "hash": "5d598dc65b6e03dd15354ee3a3cfcf1d3fb899cfa69ae358a802aa7c82daafeb"
      }
    }
  },
  "nbformat": 4,
  "nbformat_minor": 0
}