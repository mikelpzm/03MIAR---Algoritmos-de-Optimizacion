{
  "cells": [
    {
      "cell_type": "markdown",
      "metadata": {
        "id": "meO2IkoWQnZV"
      },
      "source": [
        "Nombre: Mikel Pérez de Mendiola Rubio  \n",
        "https://colab.research.google.com/drive/11VmBVwwUafdgiSv2BIp7jKWNwF4TELUt?usp=sharing  <br />\n",
        "https://github.com/mikelpzm/03MIAR---Algoritmos-de-Optimizacion  "
      ]
    },
    {
      "cell_type": "code",
      "execution_count": 10,
      "metadata": {
        "colab": {
          "base_uri": "https://localhost:8080/"
        },
        "id": "TMq0xl7HTNh5",
        "outputId": "7d87151e-0cfb-4074-992a-aef805120d93"
      },
      "outputs": [
        {
          "output_type": "stream",
          "name": "stdout",
          "text": [
            "Lleva la ficha desde 1 hasta 3\n",
            "Lleva la ficha desde 1 hasta 2\n",
            "Lleva la ficha desde 3 hasta 2\n",
            "Lleva la ficha desde 1 hasta 3\n",
            "Lleva la ficha desde 2 hasta 1\n",
            "Lleva la ficha desde 2 hasta 3\n",
            "Lleva la ficha desde 1 hasta 3\n"
          ]
        }
      ],
      "source": [
        "#Torres de Hanoi - Divide y venceras\n",
        "################################################################################\n",
        "\n",
        "\n",
        "################################################################\n",
        "def Torres_Hanoi(N, desde, hasta):\n",
        "  #N - Nº de fichas\n",
        "  #desde - torre inicial\n",
        "  #hasta - torre fina\n",
        "  if N==1:\n",
        "    print(\"Lleva la ficha desde \" + str(desde) + \" hasta \" + str(hasta))\n",
        "\n",
        "  else:\n",
        "    Torres_Hanoi(N-1, desde, 6-desde-hasta)\n",
        "    print(\"Lleva la ficha desde \" + str(desde) + \" hasta \" + str(hasta))\n",
        "    Torres_Hanoi(N-1, 6-desde-hasta,  hasta)\n",
        "\n",
        "Torres_Hanoi(3, 1, 3)\n",
        "################################################################"
      ]
    },
    {
      "cell_type": "code",
      "execution_count": 11,
      "metadata": {
        "colab": {
          "base_uri": "https://localhost:8080/"
        },
        "id": "xRqM39muTbpA",
        "outputId": "39039c18-eb7e-46ba-d594-0a5e06eeb83a"
      },
      "outputs": [
        {
          "output_type": "execute_result",
          "data": {
            "text/plain": [
              "[2, 2, 0, 1]"
            ]
          },
          "metadata": {},
          "execution_count": 11
        }
      ],
      "source": [
        "#Cambio de monedas - Técnica voraz\n",
        "################################################################################\n",
        "SISTEMA = [12, 5 ,2, 1]\n",
        "################################################################\n",
        "def cambio_monedas(CANTIDAD,SISTEMA):\n",
        "  SOLUCION = [0]*len(SISTEMA)\n",
        "  \n",
        "  for i,v in enumerate(SISTEMA):\n",
        "    monedas = CANTIDAD//v\n",
        "    SOLUCION[i] = monedas\n",
        "    CANTIDAD -= monedas*v\n",
        "\n",
        "    if CANTIDAD == 0:\n",
        "      return SOLUCION\n",
        "\n",
        "  print(\"No es posible encontrar solucion\") \n",
        "cambio_monedas(35,SISTEMA)\n",
        "\n",
        "    \n",
        "################################################################"
      ]
    },
    {
      "cell_type": "code",
      "execution_count": 12,
      "metadata": {
        "colab": {
          "base_uri": "https://localhost:8080/"
        },
        "id": "oQhXW_inTc3i",
        "outputId": "1dc23406-ab53-41a9-84ba-ee761872e026"
      },
      "outputs": [
        {
          "output_type": "stream",
          "name": "stdout",
          "text": [
            "[2, 4, 1, 3]\n",
            "[3, 1, 4, 2]\n"
          ]
        }
      ],
      "source": [
        "#N Reinas - Vuelta Atrás()\n",
        "################################################################################\n",
        "\n",
        "#Verifica que en la solución parcial no hay amenzas entre reinas\n",
        "################################################################\n",
        "def es_prometedora(SOLUCION,etapa):\n",
        "################################################################\n",
        "  #print(SOLUCION)\n",
        "  #Si la solución tiene dos valores iguales no es valida => Dos reinas en la misma fila\n",
        "  for i in range(etapa+1):\n",
        "    #print(\"El valor \" + str(SOLUCION[i]) + \" está \" +  str(SOLUCION.count(SOLUCION[i])) + \" veces\")\n",
        "    if SOLUCION.count(SOLUCION[i]) > 1:       \n",
        "      return False\n",
        "  \n",
        "    #Verifica las diagonales\n",
        "    for j in range(i+1, etapa +1 ):\n",
        "      #print(\"Comprobando diagonal de \" + str(i) + \" y \" + str(j))\n",
        "      if abs(i-j) == abs(SOLUCION[i]-SOLUCION[j]) : return False\n",
        "  return True\n",
        "\n",
        "#Traduce la solución al tablero\n",
        "################################################################\n",
        "def escribe_solucion(S):\n",
        "################################################################\n",
        "  n = len(S)\n",
        "  for x in range(n):\n",
        "    print(\"\")\n",
        "    for i in range(n):\n",
        "      if S[i] == x+1:\n",
        "        print(\" X \" , end=\"\")\n",
        "      else:\n",
        "        print(\" - \", end=\"\")\n",
        "\n",
        "\n",
        "\n",
        "#Proceso principal de N-Reinas\n",
        "################################################################\n",
        "def reinas(N, solucion=[],etapa=0): \n",
        "################################################################\n",
        "### ....\n",
        "  if len(solucion) == 0:         # [0,0,0...]\n",
        "    solucion = [0 for i in range(N) ]\n",
        "  \n",
        "  for i in range(1, N+1):\n",
        "    solucion[etapa] = i\n",
        "    if es_prometedora(solucion, etapa):\n",
        "      if etapa == N-1:\n",
        "        print(solucion)\n",
        "      else:  \n",
        "        reinas(N, solucion, etapa+1)\n",
        "    else:\n",
        "      None\n",
        "  \n",
        "  solucion[etapa] = 0\n",
        "\n",
        "reinas(4,solucion=[],etapa=0)"
      ]
    },
    {
      "cell_type": "code",
      "execution_count": 13,
      "metadata": {
        "colab": {
          "base_uri": "https://localhost:8080/"
        },
        "id": "qUQ05pCcTgoy",
        "outputId": "63b7abec-1d59-4efd-899c-4f847e925cd9"
      },
      "outputs": [
        {
          "output_type": "stream",
          "name": "stdout",
          "text": [
            "\n",
            " -  X  -  - \n",
            " -  -  -  X \n",
            " X  -  -  - \n",
            " -  -  X  - "
          ]
        }
      ],
      "source": [
        "escribe_solucion([3, 1, 4, 2])"
      ]
    },
    {
      "cell_type": "markdown",
      "metadata": {
        "id": "d_ocO6Qy4dvM"
      },
      "source": [
        "## Dado un conjunto de puntos se trata de encontrar los dos puntos más cercanos"
      ]
    },
    {
      "cell_type": "markdown",
      "metadata": {
        "id": "i_tHbnHl4dvO"
      },
      "source": [
        "### Usando fuerza bruta\n",
        "\n",
        "En este caso tenemos un coste de $O(n^2)$\n"
      ]
    },
    {
      "cell_type": "code",
      "execution_count": 14,
      "metadata": {
        "id": "MKkgSpoy4dvQ",
        "outputId": "8f28d19c-4596-4e76-b872-c94f7d152592",
        "colab": {
          "base_uri": "https://localhost:8080/"
        }
      },
      "outputs": [
        {
          "output_type": "execute_result",
          "data": {
            "text/plain": [
              "(5981, 5980, 1)"
            ]
          },
          "metadata": {},
          "execution_count": 14
        }
      ],
      "source": [
        "import random\n",
        "# Dado un conjunto de puntos, encontrar los dos puntos más cercanos\n",
        "\n",
        "#Puntos\n",
        "LISTA_1D = [random.randrange(1,10000) for x in range(100)]\n",
        "\n",
        "#Distancia entre dos puntos de un espacio 1D es la diferencia absoluta entre ellos\n",
        "def distancia(p1, p2):\n",
        "    return abs(p1-p2)\n",
        "\n",
        "\n",
        "#Algoritmo de fuerza bruta\n",
        "def fuerza_bruta(PUNTOS):\n",
        "  #se inicializa la mejor distancia con un valor muy grande para ir actualizándola con cada iteración\n",
        "  mejor_distancia = 100000\n",
        "\n",
        "  #se recorren todos los puntos de la lista\n",
        "  for i in range(len(PUNTOS)):\n",
        "    #se recorren los puntos a partir del punto i\n",
        "    for j in range(i+1, len(PUNTOS)):\n",
        "      #se calcula la distancia entre los puntos i y j\n",
        "      d = distancia(PUNTOS[i], PUNTOS[j])\n",
        "      #en caso de que la distancia sea menor que la mejor distancia registrada hasta el momento \n",
        "      #se actualiza la mejor distancia y se guardan los puntos i y j\n",
        "      if d < mejor_distancia:\n",
        "        mejor_distancia = d\n",
        "        p1, p2 = PUNTOS[i], PUNTOS[j]\n",
        "  return p1, p2, mejor_distancia\n",
        "\n",
        "\n",
        "fuerza_bruta(LISTA_1D)"
      ]
    },
    {
      "cell_type": "markdown",
      "metadata": {
        "id": "g7xNfRt64dvR"
      },
      "source": [
        "### Usando divide y vencerás\n",
        "\n",
        "el orden de complejidad es $O(n \\log n)$ porque se divide la lista en dos partes y se resuelve el problema para cada una de ellas y luego se resuelve el problema de unir las dos soluciones parciales en una solución final ($O(n)$)"
      ]
    },
    {
      "cell_type": "code",
      "execution_count": 15,
      "metadata": {
        "id": "rOfJpeRV4dvT",
        "outputId": "bd3d8264-035b-4b37-f83d-98277dc21596",
        "colab": {
          "base_uri": "https://localhost:8080/"
        }
      },
      "outputs": [
        {
          "output_type": "execute_result",
          "data": {
            "text/plain": [
              "(5980, 5981, 1)"
            ]
          },
          "metadata": {},
          "execution_count": 15
        }
      ],
      "source": [
        "#usando divide y venceras\n",
        "\n",
        "#ordenar la lista para que las listas al ser divididas también estén ordenadas\n",
        "LISTA_1D.sort()\n",
        "\n",
        "def divide_y_venceras(PUNTOS):\n",
        "\n",
        "    #Casos base con 0, 1 o 2 puntos\n",
        "    #En caso de no haber puntos, se devuelve None\n",
        "    #En caso de tener un solo punto, se devuelve el punto\n",
        "    #En caso de tener dos puntos, se devuelve la distancia entre ellos\n",
        "\n",
        "    #En caso de tener más de dos puntos, se divide la lista por la mitad en dos partes y se llama \n",
        "    #recursivamente a la función para cada una de las partes\n",
        "\n",
        "    if(len(PUNTOS) == 0):\n",
        "        return None, None, 100000\n",
        "    elif len(PUNTOS) == 1:\n",
        "        return PUNTOS[0], PUNTOS[0], 100000\n",
        "    elif len(PUNTOS) == 2:\n",
        "        return PUNTOS[0], PUNTOS[1], distancia(PUNTOS[0], PUNTOS[1])\n",
        "    else:\n",
        "        mitad = len(PUNTOS)//2\n",
        "        P1 = PUNTOS[:mitad]\n",
        "        P2 = PUNTOS[mitad:]\n",
        "        p1, q1, d1 = divide_y_venceras(P1)\n",
        "        p2, q2, d2 = divide_y_venceras(P2)\n",
        "\n",
        "        #Tras calcular las distancias mínimas en cada una de las partes, se comprueba cuál es la menor y se actualiza la distancia mínima\n",
        "        #y los puntos que la forman\n",
        "        if d1 < d2:\n",
        "            dmin = d1\n",
        "            pmin, qmin = p1, q1\n",
        "        else:\n",
        "            dmin = d2\n",
        "            pmin, qmin = p2, q2\n",
        "        #Se comrpueba además si existe un punto en P1 y otro en P2 que estén a una distancia menor que los encontrados en cada una de las partes\n",
        "        #Se coge el punto más a la derecha de P1 y el más a la izquierda de P2 y se calcula la distancia entre ellos\n",
        "        #Si la distancia es menor que la que teníamos calculada, entonces hay que actualizar los puntos y la distancia mínima\n",
        "        p3 = P1[-1]\n",
        "        p4 = P2[0]\n",
        "        d3 = distancia(p3, p4)\n",
        "        if d3 < dmin:\n",
        "            pmin = p3\n",
        "            qmin = p4\n",
        "            dmin = d3\n",
        "        \n",
        "        return pmin, qmin, dmin\n",
        "\n",
        "divide_y_venceras(LISTA_1D)      \n"
      ]
    },
    {
      "cell_type": "markdown",
      "metadata": {
        "id": "OSdZHzsE4dvV"
      },
      "source": [
        "## Se modifica para usar con puntos en espacio 2D"
      ]
    },
    {
      "cell_type": "markdown",
      "metadata": {
        "id": "mpgxW2sw4dvW"
      },
      "source": [
        "Se crea una lista con los puntos en el espacio 2D y una función para calcular la distancia entre dos puntos"
      ]
    },
    {
      "cell_type": "code",
      "execution_count": 16,
      "metadata": {
        "id": "UXWAceRU4dvX"
      },
      "outputs": [],
      "source": [
        "#Lista con puntos en 2D\n",
        "LISTA_2D = [(random.randrange(1,10000), random.randrange(1,10000)) for x in range(100)]\n",
        "\n",
        "#calcula la distancia entre dos puntos de un espacio 2D\n",
        "def distancia2D(p1, p2):\n",
        "    return ((p1[0]-p2[0])**2 + (p1[1]-p2[1])**2)**0.5"
      ]
    },
    {
      "cell_type": "markdown",
      "metadata": {
        "id": "7va11XlC4dvY"
      },
      "source": [
        "### Usando fuerza bruta con puntos en espacio 2D"
      ]
    },
    {
      "cell_type": "code",
      "execution_count": 17,
      "metadata": {
        "id": "pXgs1A2X4dvZ",
        "outputId": "a1ce15b2-d311-45f0-d17d-2f91bc709adc",
        "colab": {
          "base_uri": "https://localhost:8080/"
        }
      },
      "outputs": [
        {
          "output_type": "execute_result",
          "data": {
            "text/plain": [
              "((1816, 5155), (1834, 5121), 38.47076812334269)"
            ]
          },
          "metadata": {},
          "execution_count": 17
        }
      ],
      "source": [
        "#Algoritmo fuerza bruta 2D\n",
        "def fuerza_bruta2D(PUNTOS):\n",
        "    mejor_distancia = 100000\n",
        "    for i in range(len(PUNTOS)):\n",
        "        for j in range(i+1, len(PUNTOS)):\n",
        "            d = distancia2D(PUNTOS[i], PUNTOS[j])\n",
        "            if d < mejor_distancia:\n",
        "                mejor_distancia = d\n",
        "                p1, p2 = PUNTOS[i], PUNTOS[j]\n",
        "    return p1, p2, mejor_distancia\n",
        "\n",
        "fuerza_bruta2D(LISTA_2D)    "
      ]
    },
    {
      "cell_type": "markdown",
      "metadata": {
        "id": "hOdUZqNr4dva"
      },
      "source": [
        "### Usando divide y vencerás con puntos en el espacio 2D"
      ]
    },
    {
      "cell_type": "code",
      "execution_count": 18,
      "metadata": {
        "id": "JUTqgVNf4dvb",
        "outputId": "ed257d0c-098b-4b6d-b455-e8b5002e44eb",
        "colab": {
          "base_uri": "https://localhost:8080/"
        }
      },
      "outputs": [
        {
          "output_type": "execute_result",
          "data": {
            "text/plain": [
              "((1816, 5155), (1834, 5121), 38.47076812334269)"
            ]
          },
          "metadata": {},
          "execution_count": 18
        }
      ],
      "source": [
        "#Algoritmo divide y venceras 2D\n",
        "#Se ordena la lista por la coordenada x para que las listas al ser divididas también estén ordenadas\n",
        "LISTA_2D.sort(key=lambda x: x[0])\n",
        "\n",
        "def divide_y_venceras2D(PUNTOS):\n",
        "    #Casos base con 0, 1 o 2 puntos\n",
        "    #En caso de no haber puntos, se devuelve None\n",
        "    #En caso de tener un solo punto, se devuelve el punto\n",
        "    #En caso de tener dos puntos, se devuelve la distancia entre ellos\n",
        "\n",
        "    #En caso de tener más de dos puntos, se divide la lista por la mitad en dos partes y se llama \n",
        "    #recursivamente a la función para cada una de las partes\n",
        "\n",
        "    if(len(PUNTOS) == 0):\n",
        "        return None, None, 100000\n",
        "    elif len(PUNTOS) == 1:\n",
        "        return PUNTOS[0], PUNTOS[0], 100000\n",
        "    elif len(PUNTOS) == 2:\n",
        "        return PUNTOS[0], PUNTOS[1], distancia2D(PUNTOS[0], PUNTOS[1])\n",
        "    else:\n",
        "        mitad = len(PUNTOS)//2\n",
        "        P1 = PUNTOS[:mitad]\n",
        "        P2 = PUNTOS[mitad:]\n",
        "        p1, q1, d1 = divide_y_venceras2D(P1)\n",
        "        p2, q2, d2 = divide_y_venceras2D(P2)\n",
        "\n",
        "        #Tras calcular las distancias mínimas en cada una de las partes, se comprueba cuál es la menor y se actualiza la distancia mínima\n",
        "        #y los puntos que la forman\n",
        "        if d1 < d2:\n",
        "            dmin = d1\n",
        "            pmin, qmin = p1, q1\n",
        "        else:\n",
        "            dmin = d2\n",
        "            pmin, qmin = p2, q2\n",
        "\n",
        "        #Se comprueba además si existe un punto en P1 y otro en P2 que estén a una distancia menor que los encontrados en cada una de las partes\n",
        "        #Se coge el punto más a la derecha de P1 y el más a la izquierda de P2 y se calcula la distancia entre ellos\n",
        "        #Si la distancia es menor que la que teníamos calculada, entonces hay que actualizar los puntos y la distancia mínima\n",
        "        p3 = P1[-1]\n",
        "        p4 = P2[0]\n",
        "        d3 = distancia2D(p3, p4)\n",
        "        if d3 < dmin:\n",
        "            pmin = p3\n",
        "            qmin = p4\n",
        "            dmin = d3\n",
        "\n",
        "        return pmin, qmin, dmin\n",
        "\n",
        "divide_y_venceras2D(LISTA_2D)        "
      ]
    }
  ],
  "metadata": {
    "colab": {
      "provenance": []
    },
    "kernelspec": {
      "display_name": "Python 3",
      "language": "python",
      "name": "python3"
    },
    "language_info": {
      "codemirror_mode": {
        "name": "ipython",
        "version": 3
      },
      "file_extension": ".py",
      "mimetype": "text/x-python",
      "name": "python",
      "nbconvert_exporter": "python",
      "pygments_lexer": "ipython3",
      "version": "3.8.3 (tags/v3.8.3:6f8c832, May 13 2020, 22:20:19) [MSC v.1925 32 bit (Intel)]"
    },
    "vscode": {
      "interpreter": {
        "hash": "5d598dc65b6e03dd15354ee3a3cfcf1d3fb899cfa69ae358a802aa7c82daafeb"
      }
    }
  },
  "nbformat": 4,
  "nbformat_minor": 0
}